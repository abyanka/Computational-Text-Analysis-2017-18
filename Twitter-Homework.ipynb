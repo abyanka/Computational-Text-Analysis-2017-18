{
 "cells": [
  {
   "cell_type": "code",
   "execution_count": null,
   "metadata": {
    "collapsed": true
   },
   "outputs": [],
   "source": [
    "from twython import Twython\n",
    "\n",
    "# please change it \n",
    "twitter_api = Twython(\n",
    "    app_key= 'kjjtX647OMdC6mEQVsAZmrfn5', \n",
    "    app_secret= 'kdQtjg4udZyJN3WdXgjIW0Gjr5nchHeUU0d7vrYos6PbLUO9cc' , \n",
    "    oauth_token= '145310513-btHBEPTeB6lsCNjyGW4efserjLSOi4nSZhFEabVV', \n",
    "    oauth_token_secret= 'gniIB880RbhoYkbMUANnSCzcexM5HVYL3MmB2Cx47eNa2')\n",
    "\n",
    "# how to get donald trump tweets \n",
    "user_timeline = twitter_api.get_user_timeline(screen_name='realDonaldTrump', count=100)\n",
    "\n",
    "donald_tweets = []\n",
    "\n",
    "for tweets in user_timeline:\n",
    "    donald_tweets.append(tweets['text'])\n",
    "    print (tweets['text'])\n",
    "    "
   ]
  },
  {
   "cell_type": "code",
   "execution_count": null,
   "metadata": {
    "collapsed": false
   },
   "outputs": [],
   "source": [
    "import nltk\n",
    "from nltk.corpus import wordnet as wn\n",
    "\n",
    "for tweet in donald_tweets:\n",
    "    print (tweet)\n",
    "    print (\" \")\n",
    "    tok_text = nltk.word_tokenize(tweet)\n",
    "    pos_text = nltk.pos_tag(tok_text)\n",
    "    adjectives = [x[0] for x in pos_text if \"J\" in x[1]]\n",
    "    for adj in adjectives:\n",
    "        senses = wn.synsets(adj)\n",
    "        for sense in senses:\n",
    "            print (sense.lemma_names())\n",
    "    break"
   ]
  },
  {
   "cell_type": "code",
   "execution_count": null,
   "metadata": {
    "collapsed": true
   },
   "outputs": [],
   "source": []
  }
 ],
 "metadata": {
  "kernelspec": {
   "display_name": "Python 2",
   "language": "python",
   "name": "python2"
  },
  "language_info": {
   "codemirror_mode": {
    "name": "ipython",
    "version": 2
   },
   "file_extension": ".py",
   "mimetype": "text/x-python",
   "name": "python",
   "nbconvert_exporter": "python",
   "pygments_lexer": "ipython2",
   "version": "2.7.12"
  }
 },
 "nbformat": 4,
 "nbformat_minor": 0
}
